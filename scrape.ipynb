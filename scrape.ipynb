{
 "cells": [
  {
   "cell_type": "code",
   "execution_count": 1,
   "id": "847f55c8",
   "metadata": {},
   "outputs": [],
   "source": [
    "import pdfplumber\n",
    "import re\n",
    "import pandas as pd\n",
    "import time\n",
    "from selenium import webdriver\n",
    "from selenium.webdriver.common.by import By\n",
    "from selenium.webdriver.support.ui import WebDriverWait\n",
    "from selenium.webdriver.support import expected_conditions as EC\n",
    "from selenium.webdriver.support.ui import Select\n",
    "from webdriver_manager.chrome import ChromeDriverManager"
   ]
  },
  {
   "cell_type": "code",
   "execution_count": 2,
   "id": "dc772859",
   "metadata": {},
   "outputs": [],
   "source": [
    "pdf = pdfplumber.open(\"Magnolia-Warehouse.pdf\")\n",
    "all_pages = pdf.pages\n",
    "cleaned_lines = []\n",
    "cleaned_list_of_dicts = []\n",
    "for each_page in all_pages:\n",
    "    text_of_each_page = each_page.extract_text()\n",
    "    all_lines = text_of_each_page.splitlines()\n",
    "    for each_line in all_lines:\n",
    "        if each_line == \"Address\":\n",
    "            continue\n",
    "        elif each_line == \"Owner Card  Mailing Label  Map and Details Report\":\n",
    "            continue\n",
    "        elif each_line == \"KGIS Parcel Report\":\n",
    "            continue\n",
    "        else:\n",
    "            cleaned_lines.append(each_line)\n",
    "each_dict = {}\n",
    "for index, cleaned_line in enumerate(cleaned_lines):\n",
    "    if re.match(r\"^09[0-9A-Z]{5,}$\", cleaned_line):\n",
    "        # parcel_id\n",
    "        each_dict[\"parcel_id\"] = cleaned_line\n",
    "        each_dict[\"name\"] = cleaned_lines[index + 1]\n",
    "        cleaned_list_of_dicts.append(each_dict)\n",
    "        each_dict = {}\n",
    "    else:\n",
    "        continue"
   ]
  },
  {
   "cell_type": "code",
   "execution_count": 3,
   "id": "be3d4e87",
   "metadata": {},
   "outputs": [
    {
     "name": "stderr",
     "output_type": "stream",
     "text": [
      "/var/folders/2g/fbs070qj3qd3kw4ntm252trc0000gp/T/ipykernel_80681/1503906442.py:1: DeprecationWarning: executable_path has been deprecated, please pass in a Service object\n",
      "  driver = webdriver.Chrome(ChromeDriverManager().install())\n"
     ]
    }
   ],
   "source": [
    "driver = webdriver.Chrome(ChromeDriverManager().install())"
   ]
  },
  {
   "cell_type": "code",
   "execution_count": 4,
   "id": "95c7f66a",
   "metadata": {},
   "outputs": [],
   "source": [
    "def get_all_data(parcel_number, agree):\n",
    "    driver.get('https://propertyinfo.knoxcountytn.gov/search/commonsearch.aspx?mode=realprop')\n",
    "    if agree:\n",
    "        driver.find_element(By.ID, \"btAgree\").click()\n",
    "    driver.find_element(By.ID, \"inpParid\").send_keys(parcel_number)\n",
    "    driver.find_element(By.ID, \"btSearch\").click()\n",
    "    error_passing = driver.find_elements(By.ID, \"searchResults\")\n",
    "    # print(error_passing)\n",
    "    if len(error_passing) > 0:\n",
    "        error_passing[0].find_element(By.CLASS_NAME, \"SearchResults\").click()\n",
    "    driver.find_element(By.XPATH, '//*[@id=\"sidemenu\"]/ul/li[3]/a').click()\n",
    "    parcel_id_dirty = driver.find_element(By.CLASS_NAME, \"DataletHeaderTop\").text\n",
    "    address_data = driver.find_element(By.CLASS_NAME, \"DataletHeaderBottom\")\n",
    "    parcel_id = parcel_id_dirty.split(\": \")[1]\n",
    "    sales_data = []\n",
    "    try:\n",
    "        sales_details = driver.find_element(By.ID, \"Sales Summary\")\n",
    "        rows = sales_details.find_elements(By.TAG_NAME, \"tr\")[1:]\n",
    "        for row in rows:\n",
    "            all_data = row.find_elements(By.TAG_NAME, \"td\")\n",
    "            if len(all_data) < 5:\n",
    "                print(\"insufficient data\")\n",
    "                continue\n",
    "            else:\n",
    "                data = {}\n",
    "                date = all_data[0].text\n",
    "                book = all_data[1].text\n",
    "                page = all_data[2].text\n",
    "                price = all_data[3].text\n",
    "                grantee = all_data[-1].text\n",
    "                address = address_data[-1].text\n",
    "                data[\"date\"] = date\n",
    "                data[\"book_number\"] = book\n",
    "                data[\"page\"] = page\n",
    "                data[\"sale_price\"] = price\n",
    "                data[\"grantee_name\"] = grantee\n",
    "                data[\"parcel_id_new\"] = parcel_id\n",
    "#                 data[\"address\"] = address\n",
    "                sales_data.append(data)\n",
    "    except:\n",
    "        data = {}\n",
    "        data[\"date\"] = \"Not found\"\n",
    "        data[\"book_number\"] = \"Not found\"\n",
    "        data[\"page\"] = \"Not found\"\n",
    "        data[\"sale_price\"] = \"Not found\"\n",
    "        data[\"grantee_name\"] = \"Not found\"\n",
    "        data[\"parcel_id_new\"] = \"Not found\"\n",
    "        data[\"address\"] = \"Not found\"\n",
    "        sales_data.append(data)\n",
    "    return(sales_data)"
   ]
  },
  {
   "cell_type": "code",
   "execution_count": 5,
   "id": "284a2c7b",
   "metadata": {},
   "outputs": [],
   "source": [
    "all_sales_data = []"
   ]
  },
  {
   "cell_type": "code",
   "execution_count": 6,
   "id": "06a3df87",
   "metadata": {},
   "outputs": [
    {
     "name": "stdout",
     "output_type": "stream",
     "text": [
      "0 done\n",
      "1 done\n",
      "2 done\n",
      "3 done\n",
      "4 done\n"
     ]
    }
   ],
   "source": [
    "agree = True\n",
    "for index, each_parcel_dict in enumerate(cleaned_list_of_dicts[:5]):\n",
    "    sales_data = get_all_data(each_parcel_dict[\"parcel_id\"], agree)\n",
    "    agree = False\n",
    "    all_sales_data.extend(sales_data)\n",
    "    print(index, \"done\")"
   ]
  },
  {
   "cell_type": "code",
   "execution_count": 7,
   "id": "1da78510",
   "metadata": {},
   "outputs": [
    {
     "data": {
      "text/plain": [
       "[{'date': 'Not found',\n",
       "  'book_number': 'Not found',\n",
       "  'page': 'Not found',\n",
       "  'sale_price': 'Not found',\n",
       "  'grantee_name': 'Not found',\n",
       "  'parcel_id_new': 'Not found',\n",
       "  'address': 'Not found'},\n",
       " {'date': 'Not found',\n",
       "  'book_number': 'Not found',\n",
       "  'page': 'Not found',\n",
       "  'sale_price': 'Not found',\n",
       "  'grantee_name': 'Not found',\n",
       "  'parcel_id_new': 'Not found',\n",
       "  'address': 'Not found'},\n",
       " {'date': 'Not found',\n",
       "  'book_number': 'Not found',\n",
       "  'page': 'Not found',\n",
       "  'sale_price': 'Not found',\n",
       "  'grantee_name': 'Not found',\n",
       "  'parcel_id_new': 'Not found',\n",
       "  'address': 'Not found'},\n",
       " {'date': 'Not found',\n",
       "  'book_number': 'Not found',\n",
       "  'page': 'Not found',\n",
       "  'sale_price': 'Not found',\n",
       "  'grantee_name': 'Not found',\n",
       "  'parcel_id_new': 'Not found',\n",
       "  'address': 'Not found'},\n",
       " {'date': 'Not found',\n",
       "  'book_number': 'Not found',\n",
       "  'page': 'Not found',\n",
       "  'sale_price': 'Not found',\n",
       "  'grantee_name': 'Not found',\n",
       "  'parcel_id_new': 'Not found',\n",
       "  'address': 'Not found'}]"
      ]
     },
     "execution_count": 7,
     "metadata": {},
     "output_type": "execute_result"
    }
   ],
   "source": [
    "all_sales_data"
   ]
  },
  {
   "cell_type": "code",
   "execution_count": null,
   "id": "b9a94a8a",
   "metadata": {},
   "outputs": [],
   "source": []
  }
 ],
 "metadata": {
  "kernelspec": {
   "display_name": "Python 3 (ipykernel)",
   "language": "python",
   "name": "python3"
  },
  "language_info": {
   "codemirror_mode": {
    "name": "ipython",
    "version": 3
   },
   "file_extension": ".py",
   "mimetype": "text/x-python",
   "name": "python",
   "nbconvert_exporter": "python",
   "pygments_lexer": "ipython3",
   "version": "3.8.9"
  }
 },
 "nbformat": 4,
 "nbformat_minor": 5
}
