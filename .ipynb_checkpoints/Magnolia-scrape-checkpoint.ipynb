{
 "cells": [
  {
   "cell_type": "code",
   "execution_count": 1,
   "id": "847f55c8",
   "metadata": {},
   "outputs": [],
   "source": [
    "import pdfplumber\n",
    "import re\n",
    "import pandas as pd\n",
    "import time\n",
    "from selenium import webdriver\n",
    "from selenium.webdriver.common.by import By\n",
    "from selenium.webdriver.support.ui import WebDriverWait\n",
    "from selenium.webdriver.support import expected_conditions as EC\n",
    "from selenium.webdriver.support.ui import Select\n",
    "from webdriver_manager.chrome import ChromeDriverManager"
   ]
  },
  {
   "cell_type": "code",
   "execution_count": 2,
   "id": "dc772859",
   "metadata": {},
   "outputs": [],
   "source": [
    "pdf = pdfplumber.open(\"Magnolia-Warehouse.pdf\")\n",
    "all_pages = pdf.pages\n",
    "cleaned_lines = []\n",
    "cleaned_list_of_dicts = []\n",
    "for each_page in all_pages:\n",
    "    text_of_each_page = each_page.extract_text()\n",
    "    all_lines = text_of_each_page.splitlines()\n",
    "    for each_line in all_lines:\n",
    "        if each_line == \"Address\":\n",
    "            continue\n",
    "        elif each_line == \"Owner Card  Mailing Label  Map and Details Report\":\n",
    "            continue\n",
    "        elif each_line == \"KGIS Parcel Report\":\n",
    "            continue\n",
    "        else:\n",
    "            cleaned_lines.append(each_line)\n",
    "each_dict = {}\n",
    "for index, cleaned_line in enumerate(cleaned_lines):\n",
    "    if re.match(r\"^09[0-9A-Z]{5,}$\", cleaned_line):\n",
    "        # parcel_id\n",
    "        each_dict[\"parcel_id\"] = cleaned_line\n",
    "        each_dict[\"name\"] = cleaned_lines[index + 1]\n",
    "        cleaned_list_of_dicts.append(each_dict)\n",
    "        each_dict = {}\n",
    "    else:\n",
    "        continue"
   ]
  },
  {
   "cell_type": "code",
   "execution_count": 3,
   "id": "3f5a4d71",
   "metadata": {},
   "outputs": [
    {
     "data": {
      "text/plain": [
       "192"
      ]
     },
     "execution_count": 3,
     "metadata": {},
     "output_type": "execute_result"
    }
   ],
   "source": [
    "len(cleaned_list_of_dicts)"
   ]
  },
  {
   "cell_type": "code",
   "execution_count": null,
   "id": "29191fed",
   "metadata": {},
   "outputs": [],
   "source": [
    "# cleaned_list_of_dicts"
   ]
  },
  {
   "cell_type": "code",
   "execution_count": 13,
   "id": "be3d4e87",
   "metadata": {},
   "outputs": [
    {
     "name": "stderr",
     "output_type": "stream",
     "text": [
      "/var/folders/2g/fbs070qj3qd3kw4ntm252trc0000gp/T/ipykernel_92114/1503906442.py:1: DeprecationWarning: executable_path has been deprecated, please pass in a Service object\n",
      "  driver = webdriver.Chrome(ChromeDriverManager().install())\n"
     ]
    }
   ],
   "source": [
    "driver = webdriver.Chrome(ChromeDriverManager().install())"
   ]
  },
  {
   "cell_type": "code",
   "execution_count": 14,
   "id": "95c7f66a",
   "metadata": {},
   "outputs": [],
   "source": [
    "def get_all_data(parcel_number, agree):\n",
    "    driver.get(\n",
    "        \"https://propertyinfo.knoxcountytn.gov/search/commonsearch.aspx?mode=realprop\"\n",
    "    )\n",
    "    if agree:\n",
    "        try:\n",
    "            driver.find_element(By.ID, \"btAgree\").click()\n",
    "        except:\n",
    "            print(\"No agree modal found\")\n",
    "    driver.find_element(By.ID, \"inpParid\").send_keys(parcel_number)\n",
    "    driver.find_element(By.ID, \"btSearch\").click()\n",
    "    error_passing = driver.find_elements(By.ID, \"searchResults\")\n",
    "    # print(error_passing)\n",
    "    if len(error_passing) > 0:\n",
    "        error_passing[0].find_element(By.CLASS_NAME, \"SearchResults\").click()\n",
    "    driver.find_element(By.XPATH, '//*[@id=\"sidemenu\"]/ul/li[3]/a').click()\n",
    "    parcel_id_dirty = driver.find_element(By.CLASS_NAME, \"DataletHeaderTop\").text\n",
    "    address_data = driver.find_elements(By.CLASS_NAME, \"DataletHeaderBottom\")\n",
    "    parcel_id = parcel_id_dirty.split(\": \")[1]\n",
    "    sales_data = []\n",
    "    print(\"address\", address_data)\n",
    "    try:\n",
    "        sales_details = driver.find_element(By.ID, \"Sales Summary\")\n",
    "        # print(\"about to rows\")\n",
    "        rows = sales_details.find_elements(By.TAG_NAME, \"tr\")[1:]\n",
    "        # print(\"about to row\")\n",
    "        for row in rows:\n",
    "            all_data = row.find_elements(By.TAG_NAME, \"td\")\n",
    "            # print(\"all_data\", all_data)\n",
    "            if len(all_data) < 5:\n",
    "                # print(\"insufficient data\")\n",
    "                continue\n",
    "            else:\n",
    "                data = {}\n",
    "                date = all_data[0].text\n",
    "                # print(\"date done\")\n",
    "                book = all_data[1].text\n",
    "                # print(\"book done\")\n",
    "                page = all_data[2].text\n",
    "                # print(\"page done\")\n",
    "                price = all_data[3].text\n",
    "                # print(\"price done\")\n",
    "                grantee = all_data[-1].text\n",
    "                # print(\"grantee done\")\n",
    "                address = address_data[-1].text\n",
    "                # print(\"address done\")\n",
    "\n",
    "                data[\"date\"] = date\n",
    "                data[\"book_number\"] = book\n",
    "                data[\"page\"] = page\n",
    "                data[\"sale_price\"] = price\n",
    "                data[\"grantee_name\"] = grantee\n",
    "                data[\"parcel_id_new\"] = parcel_id\n",
    "                data[\"address\"] = address\n",
    "                sales_data.append(data)\n",
    "    except Exception as e:\n",
    "        print(e)\n",
    "        data = {}\n",
    "        data[\"date\"] = \"Not found\"\n",
    "        data[\"book_number\"] = \"Not found\"\n",
    "        data[\"page\"] = \"Not found\"\n",
    "        data[\"sale_price\"] = \"Not found\"\n",
    "        data[\"grantee_name\"] = \"Not found\"\n",
    "        data[\"parcel_id_new\"] = \"Not found\"\n",
    "        data[\"address\"] = \"Not found\"\n",
    "        sales_data.append(data)\n",
    "    return sales_data"
   ]
  },
  {
   "cell_type": "code",
   "execution_count": 6,
   "id": "284a2c7b",
   "metadata": {},
   "outputs": [],
   "source": [
    "all_sales_data = []"
   ]
  },
  {
   "cell_type": "code",
   "execution_count": 15,
   "id": "06a3df87",
   "metadata": {},
   "outputs": [
    {
     "name": "stdout",
     "output_type": "stream",
     "text": [
      "address [<selenium.webdriver.remote.webelement.WebElement (session=\"c6ea20e50da1744332344cb416c9abb4\", element=\"d48451b2-bdf9-4917-97dd-3da93412077e\")>, <selenium.webdriver.remote.webelement.WebElement (session=\"c6ea20e50da1744332344cb416c9abb4\", element=\"eb301bde-d79b-450f-9241-dd20aa2ffa91\")>, <selenium.webdriver.remote.webelement.WebElement (session=\"c6ea20e50da1744332344cb416c9abb4\", element=\"45fbb012-7ecd-43ca-bdf6-977c5e837c30\")>]\n",
      "address [<selenium.webdriver.remote.webelement.WebElement (session=\"c6ea20e50da1744332344cb416c9abb4\", element=\"111509b4-2c2e-4c67-94a6-cb1801540742\")>, <selenium.webdriver.remote.webelement.WebElement (session=\"c6ea20e50da1744332344cb416c9abb4\", element=\"fe602f6e-759b-446d-9119-e75e8c9721b9\")>, <selenium.webdriver.remote.webelement.WebElement (session=\"c6ea20e50da1744332344cb416c9abb4\", element=\"6adfbed0-cfb0-4bf5-876e-b8a56f0fdc6a\")>]\n",
      "address [<selenium.webdriver.remote.webelement.WebElement (session=\"c6ea20e50da1744332344cb416c9abb4\", element=\"42f73b68-568d-4d16-be4e-53a537f68b10\")>, <selenium.webdriver.remote.webelement.WebElement (session=\"c6ea20e50da1744332344cb416c9abb4\", element=\"da16aa64-ca8d-4dad-9134-c9b10104ec44\")>, <selenium.webdriver.remote.webelement.WebElement (session=\"c6ea20e50da1744332344cb416c9abb4\", element=\"d53bd7a3-e8cd-468d-b1e5-057d57054852\")>]\n",
      "address [<selenium.webdriver.remote.webelement.WebElement (session=\"c6ea20e50da1744332344cb416c9abb4\", element=\"70c1375a-1324-4359-b335-64dc6ed1c2cb\")>, <selenium.webdriver.remote.webelement.WebElement (session=\"c6ea20e50da1744332344cb416c9abb4\", element=\"41926100-3b55-4cf2-a90c-6593234e5a06\")>, <selenium.webdriver.remote.webelement.WebElement (session=\"c6ea20e50da1744332344cb416c9abb4\", element=\"b10fe2bd-a5bb-4376-807e-039b6dfe8edd\")>]\n",
      "address [<selenium.webdriver.remote.webelement.WebElement (session=\"c6ea20e50da1744332344cb416c9abb4\", element=\"56e540d4-4c37-4cb7-968e-e5d48fe9496b\")>, <selenium.webdriver.remote.webelement.WebElement (session=\"c6ea20e50da1744332344cb416c9abb4\", element=\"1288b61b-9824-4735-a0ae-16e14a22b58a\")>, <selenium.webdriver.remote.webelement.WebElement (session=\"c6ea20e50da1744332344cb416c9abb4\", element=\"785af096-b3d6-44bd-9a0f-4d5c15cda4b4\")>]\n",
      "address [<selenium.webdriver.remote.webelement.WebElement (session=\"c6ea20e50da1744332344cb416c9abb4\", element=\"6b7caa07-f05f-47e6-8e7a-591c068bf1e0\")>, <selenium.webdriver.remote.webelement.WebElement (session=\"c6ea20e50da1744332344cb416c9abb4\", element=\"983b57a7-1486-45e9-afd7-200d4a499248\")>, <selenium.webdriver.remote.webelement.WebElement (session=\"c6ea20e50da1744332344cb416c9abb4\", element=\"e6dcbec0-a9ab-4a3c-8a48-32e9787113c9\")>]\n",
      "address [<selenium.webdriver.remote.webelement.WebElement (session=\"c6ea20e50da1744332344cb416c9abb4\", element=\"c5520e31-5e21-4282-a1d4-125f3232f7d2\")>, <selenium.webdriver.remote.webelement.WebElement (session=\"c6ea20e50da1744332344cb416c9abb4\", element=\"9c39346e-844b-47da-88ae-ff71a0e9c26f\")>, <selenium.webdriver.remote.webelement.WebElement (session=\"c6ea20e50da1744332344cb416c9abb4\", element=\"69d65ebf-150a-4bf7-953f-31407b67e0f3\")>]\n",
      "address [<selenium.webdriver.remote.webelement.WebElement (session=\"c6ea20e50da1744332344cb416c9abb4\", element=\"643e995b-e9cc-45d3-9ea1-9c53ec02f97f\")>, <selenium.webdriver.remote.webelement.WebElement (session=\"c6ea20e50da1744332344cb416c9abb4\", element=\"208856d6-3c84-42d7-9f0c-62635d1b6900\")>, <selenium.webdriver.remote.webelement.WebElement (session=\"c6ea20e50da1744332344cb416c9abb4\", element=\"83370710-db7d-4907-891d-6ccf120e0dfe\")>]\n",
      "address [<selenium.webdriver.remote.webelement.WebElement (session=\"c6ea20e50da1744332344cb416c9abb4\", element=\"f802ad42-2fa6-487a-940d-24650dd7a4ac\")>, <selenium.webdriver.remote.webelement.WebElement (session=\"c6ea20e50da1744332344cb416c9abb4\", element=\"57f3f0a7-bf7d-46e0-bcc5-ffc757c7d811\")>, <selenium.webdriver.remote.webelement.WebElement (session=\"c6ea20e50da1744332344cb416c9abb4\", element=\"00013530-b394-454b-adfa-e70238262103\")>]\n",
      "Message: no such element: Unable to locate element: {\"method\":\"css selector\",\"selector\":\"[id=\"Sales Summary\"]\"}\n",
      "  (Session info: chrome=106.0.5249.103)\n",
      "Stacktrace:\n",
      "0   chromedriver                        0x0000000105574598 chromedriver + 4404632\n",
      "1   chromedriver                        0x00000001054fbfa3 chromedriver + 3911587\n",
      "2   chromedriver                        0x00000001051a8e6a chromedriver + 425578\n",
      "3   chromedriver                        0x00000001051e0c91 chromedriver + 654481\n",
      "4   chromedriver                        0x00000001051e0e91 chromedriver + 654993\n",
      "5   chromedriver                        0x0000000105218274 chromedriver + 881268\n",
      "6   chromedriver                        0x00000001051fedcd chromedriver + 777677\n",
      "7   chromedriver                        0x0000000105215f79 chromedriver + 872313\n",
      "8   chromedriver                        0x00000001051febd3 chromedriver + 777171\n",
      "9   chromedriver                        0x00000001051d3ced chromedriver + 601325\n",
      "10  chromedriver                        0x00000001051d4e51 chromedriver + 605777\n",
      "11  chromedriver                        0x00000001055440ce chromedriver + 4206798\n",
      "12  chromedriver                        0x0000000105548797 chromedriver + 4224919\n",
      "13  chromedriver                        0x000000010554fa4f chromedriver + 4254287\n",
      "14  chromedriver                        0x00000001055494da chromedriver + 4228314\n",
      "15  chromedriver                        0x000000010552223f chromedriver + 4067903\n",
      "16  chromedriver                        0x00000001055666a8 chromedriver + 4347560\n",
      "17  chromedriver                        0x0000000105566816 chromedriver + 4347926\n",
      "18  chromedriver                        0x000000010557b8fe chromedriver + 4434174\n",
      "19  libsystem_pthread.dylib             0x00007ff81f0324e1 _pthread_start + 125\n",
      "20  libsystem_pthread.dylib             0x00007ff81f02df6b thread_start + 15\n",
      "\n",
      "address [<selenium.webdriver.remote.webelement.WebElement (session=\"c6ea20e50da1744332344cb416c9abb4\", element=\"7f075a4d-0f0a-4742-8594-38fcfceac254\")>, <selenium.webdriver.remote.webelement.WebElement (session=\"c6ea20e50da1744332344cb416c9abb4\", element=\"0bd64a9b-b9fb-45a3-aaff-2a43f5468d82\")>, <selenium.webdriver.remote.webelement.WebElement (session=\"c6ea20e50da1744332344cb416c9abb4\", element=\"ec08f587-ff3d-4329-9a42-d92a9ba4b1c6\")>]\n",
      "Message: no such element: Unable to locate element: {\"method\":\"css selector\",\"selector\":\"[id=\"Sales Summary\"]\"}\n",
      "  (Session info: chrome=106.0.5249.103)\n",
      "Stacktrace:\n",
      "0   chromedriver                        0x0000000105574598 chromedriver + 4404632\n",
      "1   chromedriver                        0x00000001054fbfa3 chromedriver + 3911587\n",
      "2   chromedriver                        0x00000001051a8e6a chromedriver + 425578\n",
      "3   chromedriver                        0x00000001051e0c91 chromedriver + 654481\n",
      "4   chromedriver                        0x00000001051e0e91 chromedriver + 654993\n",
      "5   chromedriver                        0x0000000105218274 chromedriver + 881268\n",
      "6   chromedriver                        0x00000001051fedcd chromedriver + 777677\n",
      "7   chromedriver                        0x0000000105215f79 chromedriver + 872313\n",
      "8   chromedriver                        0x00000001051febd3 chromedriver + 777171\n",
      "9   chromedriver                        0x00000001051d3ced chromedriver + 601325\n",
      "10  chromedriver                        0x00000001051d4e51 chromedriver + 605777\n",
      "11  chromedriver                        0x00000001055440ce chromedriver + 4206798\n",
      "12  chromedriver                        0x0000000105548797 chromedriver + 4224919\n",
      "13  chromedriver                        0x000000010554fa4f chromedriver + 4254287\n",
      "14  chromedriver                        0x00000001055494da chromedriver + 4228314\n",
      "15  chromedriver                        0x000000010552223f chromedriver + 4067903\n",
      "16  chromedriver                        0x00000001055666a8 chromedriver + 4347560\n",
      "17  chromedriver                        0x0000000105566816 chromedriver + 4347926\n",
      "18  chromedriver                        0x000000010557b8fe chromedriver + 4434174\n",
      "19  libsystem_pthread.dylib             0x00007ff81f0324e1 _pthread_start + 125\n",
      "20  libsystem_pthread.dylib             0x00007ff81f02df6b thread_start + 15\n",
      "\n",
      "address [<selenium.webdriver.remote.webelement.WebElement (session=\"c6ea20e50da1744332344cb416c9abb4\", element=\"e1322402-169f-438f-96c9-7b177c495c61\")>, <selenium.webdriver.remote.webelement.WebElement (session=\"c6ea20e50da1744332344cb416c9abb4\", element=\"84bf3ef5-88cb-490e-b9d6-81990e99de46\")>, <selenium.webdriver.remote.webelement.WebElement (session=\"c6ea20e50da1744332344cb416c9abb4\", element=\"171b8fc0-0f0d-46c8-80b1-a15524592493\")>]\n"
     ]
    },
    {
     "name": "stdout",
     "output_type": "stream",
     "text": [
      "address [<selenium.webdriver.remote.webelement.WebElement (session=\"c6ea20e50da1744332344cb416c9abb4\", element=\"08897fe0-4a0f-4950-969b-a9a87ce67c86\")>, <selenium.webdriver.remote.webelement.WebElement (session=\"c6ea20e50da1744332344cb416c9abb4\", element=\"ab876e7c-fefa-405a-a6f1-40736bf41b2a\")>, <selenium.webdriver.remote.webelement.WebElement (session=\"c6ea20e50da1744332344cb416c9abb4\", element=\"06471b44-f868-4f0b-a1d4-ed9427c0fec4\")>]\n",
      "address [<selenium.webdriver.remote.webelement.WebElement (session=\"c6ea20e50da1744332344cb416c9abb4\", element=\"2155f3a2-f8fe-4260-9017-65885e8a844b\")>, <selenium.webdriver.remote.webelement.WebElement (session=\"c6ea20e50da1744332344cb416c9abb4\", element=\"7b5f7efe-9d06-438f-8b9a-49a2132247c4\")>, <selenium.webdriver.remote.webelement.WebElement (session=\"c6ea20e50da1744332344cb416c9abb4\", element=\"f812bc01-b30f-4219-b335-a82d8e1a9380\")>]\n",
      "address [<selenium.webdriver.remote.webelement.WebElement (session=\"c6ea20e50da1744332344cb416c9abb4\", element=\"2e8a1e7e-f45a-45e3-bf3d-52863c07db56\")>, <selenium.webdriver.remote.webelement.WebElement (session=\"c6ea20e50da1744332344cb416c9abb4\", element=\"b0921914-9ed8-47f2-ab58-3e72eaada812\")>, <selenium.webdriver.remote.webelement.WebElement (session=\"c6ea20e50da1744332344cb416c9abb4\", element=\"ba40c771-a678-4a66-bee6-3179ea127ee6\")>]\n",
      "address [<selenium.webdriver.remote.webelement.WebElement (session=\"c6ea20e50da1744332344cb416c9abb4\", element=\"133f64ba-8be2-451c-a1bd-37944e89ae3d\")>, <selenium.webdriver.remote.webelement.WebElement (session=\"c6ea20e50da1744332344cb416c9abb4\", element=\"51e9a38b-6245-4cc3-9d89-336a8af65da5\")>, <selenium.webdriver.remote.webelement.WebElement (session=\"c6ea20e50da1744332344cb416c9abb4\", element=\"0400bc52-c055-4cc2-bce7-5634fff1d8fc\")>]\n",
      "address [<selenium.webdriver.remote.webelement.WebElement (session=\"c6ea20e50da1744332344cb416c9abb4\", element=\"d3c85098-a9c9-4331-afc5-e6e39f87e8e3\")>, <selenium.webdriver.remote.webelement.WebElement (session=\"c6ea20e50da1744332344cb416c9abb4\", element=\"0be65894-af9a-4cd6-bd1a-72780f1316e9\")>, <selenium.webdriver.remote.webelement.WebElement (session=\"c6ea20e50da1744332344cb416c9abb4\", element=\"5c80888b-3213-43d4-b469-f2b55546cc49\")>]\n",
      "address [<selenium.webdriver.remote.webelement.WebElement (session=\"c6ea20e50da1744332344cb416c9abb4\", element=\"0ef8a0b2-008d-4fbe-9599-ea45835d594c\")>, <selenium.webdriver.remote.webelement.WebElement (session=\"c6ea20e50da1744332344cb416c9abb4\", element=\"a48e7e32-256d-4e1f-b62f-68a3c4c33088\")>, <selenium.webdriver.remote.webelement.WebElement (session=\"c6ea20e50da1744332344cb416c9abb4\", element=\"e7805aae-f034-4520-83ce-330ba8cb0be1\")>]\n",
      "address [<selenium.webdriver.remote.webelement.WebElement (session=\"c6ea20e50da1744332344cb416c9abb4\", element=\"ea5a54ad-a91c-4d78-bbfe-56d43b9888d5\")>, <selenium.webdriver.remote.webelement.WebElement (session=\"c6ea20e50da1744332344cb416c9abb4\", element=\"2d58e953-69cf-47a5-9342-f3c3161a24ab\")>, <selenium.webdriver.remote.webelement.WebElement (session=\"c6ea20e50da1744332344cb416c9abb4\", element=\"caeacdd4-e9ea-4f62-b70b-d626e93861f8\")>]\n",
      "address [<selenium.webdriver.remote.webelement.WebElement (session=\"c6ea20e50da1744332344cb416c9abb4\", element=\"19ce2464-6461-4c2f-8cbe-32f00ddd5f76\")>, <selenium.webdriver.remote.webelement.WebElement (session=\"c6ea20e50da1744332344cb416c9abb4\", element=\"f0032839-98ae-4aa2-b9a2-2f50b889eb1c\")>, <selenium.webdriver.remote.webelement.WebElement (session=\"c6ea20e50da1744332344cb416c9abb4\", element=\"6bc1658f-d28c-4739-8209-20af99130f54\")>]\n",
      "address [<selenium.webdriver.remote.webelement.WebElement (session=\"c6ea20e50da1744332344cb416c9abb4\", element=\"06db4e90-6011-4135-9b3b-9ca45a04e1fa\")>, <selenium.webdriver.remote.webelement.WebElement (session=\"c6ea20e50da1744332344cb416c9abb4\", element=\"646bafb6-69e2-45f9-912b-6a8d44ba4fae\")>, <selenium.webdriver.remote.webelement.WebElement (session=\"c6ea20e50da1744332344cb416c9abb4\", element=\"14ba7f0e-564c-4e35-8818-6cc4d0e26991\")>]\n",
      "address [<selenium.webdriver.remote.webelement.WebElement (session=\"c6ea20e50da1744332344cb416c9abb4\", element=\"ae331b3f-2fa2-4c47-870d-1570af5949e8\")>, <selenium.webdriver.remote.webelement.WebElement (session=\"c6ea20e50da1744332344cb416c9abb4\", element=\"1ae04b8b-c191-4569-881b-bec53a959091\")>, <selenium.webdriver.remote.webelement.WebElement (session=\"c6ea20e50da1744332344cb416c9abb4\", element=\"64fc995f-f7e0-4772-80f9-b8fbfd944f5f\")>]\n",
      "address [<selenium.webdriver.remote.webelement.WebElement (session=\"c6ea20e50da1744332344cb416c9abb4\", element=\"29fbf9b8-8f66-4e1c-90cb-91d388b2fa0e\")>, <selenium.webdriver.remote.webelement.WebElement (session=\"c6ea20e50da1744332344cb416c9abb4\", element=\"f50f7d91-ea18-40e1-b88b-86c0f129beb5\")>, <selenium.webdriver.remote.webelement.WebElement (session=\"c6ea20e50da1744332344cb416c9abb4\", element=\"f209ece0-0402-481f-bd9c-7f9ec07ef087\")>]\n",
      "address [<selenium.webdriver.remote.webelement.WebElement (session=\"c6ea20e50da1744332344cb416c9abb4\", element=\"2fa0a9a2-123d-44e1-8d06-200f247ea44f\")>, <selenium.webdriver.remote.webelement.WebElement (session=\"c6ea20e50da1744332344cb416c9abb4\", element=\"38d66fc7-ff36-4448-af10-c0776ae68dd7\")>, <selenium.webdriver.remote.webelement.WebElement (session=\"c6ea20e50da1744332344cb416c9abb4\", element=\"7180244a-62c7-46d3-a204-e0347ce30678\")>]\n",
      "address [<selenium.webdriver.remote.webelement.WebElement (session=\"c6ea20e50da1744332344cb416c9abb4\", element=\"43bc7c49-c5bf-4e91-91c0-298b6aa724e7\")>, <selenium.webdriver.remote.webelement.WebElement (session=\"c6ea20e50da1744332344cb416c9abb4\", element=\"1abd998b-fc7c-4d2d-91e6-c28133521324\")>, <selenium.webdriver.remote.webelement.WebElement (session=\"c6ea20e50da1744332344cb416c9abb4\", element=\"f3e32e18-620e-4847-abd9-c6e4c9007074\")>]\n",
      "address [<selenium.webdriver.remote.webelement.WebElement (session=\"c6ea20e50da1744332344cb416c9abb4\", element=\"8816711f-f5e5-45a8-adce-7bc8db8659f5\")>, <selenium.webdriver.remote.webelement.WebElement (session=\"c6ea20e50da1744332344cb416c9abb4\", element=\"8bfd2213-e337-4e44-8688-1ab08f72c915\")>, <selenium.webdriver.remote.webelement.WebElement (session=\"c6ea20e50da1744332344cb416c9abb4\", element=\"90a68196-31c3-42a3-bbaf-8f36cb039807\")>]\n",
      "address [<selenium.webdriver.remote.webelement.WebElement (session=\"c6ea20e50da1744332344cb416c9abb4\", element=\"ec733b21-9c09-4d30-bb2b-e147807d91e7\")>, <selenium.webdriver.remote.webelement.WebElement (session=\"c6ea20e50da1744332344cb416c9abb4\", element=\"f8e606a5-b286-43e7-a4ad-da58fa3c3495\")>, <selenium.webdriver.remote.webelement.WebElement (session=\"c6ea20e50da1744332344cb416c9abb4\", element=\"add3bcee-9e30-4592-a27a-e614894f6b5d\")>]\n",
      "address [<selenium.webdriver.remote.webelement.WebElement (session=\"c6ea20e50da1744332344cb416c9abb4\", element=\"9b45526e-a1a4-414c-b32b-21c11c635df2\")>, <selenium.webdriver.remote.webelement.WebElement (session=\"c6ea20e50da1744332344cb416c9abb4\", element=\"081e920d-15c1-4a64-822a-2cc6e88fedc3\")>, <selenium.webdriver.remote.webelement.WebElement (session=\"c6ea20e50da1744332344cb416c9abb4\", element=\"9c3cc0b9-1c21-4c5c-a24b-5d78ac70c8c0\")>]\n",
      "Message: no such element: Unable to locate element: {\"method\":\"css selector\",\"selector\":\"[id=\"Sales Summary\"]\"}\n",
      "  (Session info: chrome=106.0.5249.103)\n",
      "Stacktrace:\n",
      "0   chromedriver                        0x0000000105574598 chromedriver + 4404632\n",
      "1   chromedriver                        0x00000001054fbfa3 chromedriver + 3911587\n",
      "2   chromedriver                        0x00000001051a8e6a chromedriver + 425578\n",
      "3   chromedriver                        0x00000001051e0c91 chromedriver + 654481\n",
      "4   chromedriver                        0x00000001051e0e91 chromedriver + 654993\n",
      "5   chromedriver                        0x0000000105218274 chromedriver + 881268\n",
      "6   chromedriver                        0x00000001051fedcd chromedriver + 777677\n",
      "7   chromedriver                        0x0000000105215f79 chromedriver + 872313\n",
      "8   chromedriver                        0x00000001051febd3 chromedriver + 777171\n",
      "9   chromedriver                        0x00000001051d3ced chromedriver + 601325\n",
      "10  chromedriver                        0x00000001051d4e51 chromedriver + 605777\n",
      "11  chromedriver                        0x00000001055440ce chromedriver + 4206798\n",
      "12  chromedriver                        0x0000000105548797 chromedriver + 4224919\n",
      "13  chromedriver                        0x000000010554fa4f chromedriver + 4254287\n",
      "14  chromedriver                        0x00000001055494da chromedriver + 4228314\n",
      "15  chromedriver                        0x000000010552223f chromedriver + 4067903\n",
      "16  chromedriver                        0x00000001055666a8 chromedriver + 4347560\n",
      "17  chromedriver                        0x0000000105566816 chromedriver + 4347926\n",
      "18  chromedriver                        0x000000010557b8fe chromedriver + 4434174\n",
      "19  libsystem_pthread.dylib             0x00007ff81f0324e1 _pthread_start + 125\n",
      "20  libsystem_pthread.dylib             0x00007ff81f02df6b thread_start + 15\n",
      "\n"
     ]
    },
    {
     "name": "stdout",
     "output_type": "stream",
     "text": [
      "address [<selenium.webdriver.remote.webelement.WebElement (session=\"c6ea20e50da1744332344cb416c9abb4\", element=\"0756617a-df08-49ba-99a3-01b5057c20fe\")>, <selenium.webdriver.remote.webelement.WebElement (session=\"c6ea20e50da1744332344cb416c9abb4\", element=\"2493d179-2c21-4abf-8b63-e949223750aa\")>, <selenium.webdriver.remote.webelement.WebElement (session=\"c6ea20e50da1744332344cb416c9abb4\", element=\"63636261-21aa-428f-a598-655f45556f74\")>]\n",
      "address [<selenium.webdriver.remote.webelement.WebElement (session=\"c6ea20e50da1744332344cb416c9abb4\", element=\"16d2d0b5-82d9-48fc-9411-1725fc08d3cf\")>, <selenium.webdriver.remote.webelement.WebElement (session=\"c6ea20e50da1744332344cb416c9abb4\", element=\"15eead47-86cb-41b4-9a60-11e0654a60bb\")>, <selenium.webdriver.remote.webelement.WebElement (session=\"c6ea20e50da1744332344cb416c9abb4\", element=\"36aa8614-f06f-49f2-bddf-6af0f9fcdbab\")>]\n",
      "address [<selenium.webdriver.remote.webelement.WebElement (session=\"c6ea20e50da1744332344cb416c9abb4\", element=\"358ca1f6-b756-4c66-818a-144ff87e29b8\")>, <selenium.webdriver.remote.webelement.WebElement (session=\"c6ea20e50da1744332344cb416c9abb4\", element=\"71152b26-ab33-4a34-b37f-62d9bba377fb\")>, <selenium.webdriver.remote.webelement.WebElement (session=\"c6ea20e50da1744332344cb416c9abb4\", element=\"d4ae1d04-927b-4173-aa55-6d26291feba8\")>]\n",
      "address [<selenium.webdriver.remote.webelement.WebElement (session=\"c6ea20e50da1744332344cb416c9abb4\", element=\"fd9832d3-9d03-4117-a072-883beb07af82\")>, <selenium.webdriver.remote.webelement.WebElement (session=\"c6ea20e50da1744332344cb416c9abb4\", element=\"1bbbaaaa-6e4c-4c34-a723-c80a547111cd\")>, <selenium.webdriver.remote.webelement.WebElement (session=\"c6ea20e50da1744332344cb416c9abb4\", element=\"d4473f6a-f8bc-4277-8c05-8a6f3b0ba431\")>]\n",
      "address [<selenium.webdriver.remote.webelement.WebElement (session=\"c6ea20e50da1744332344cb416c9abb4\", element=\"38cb5b47-4bdb-4667-af9a-73199c1b9197\")>, <selenium.webdriver.remote.webelement.WebElement (session=\"c6ea20e50da1744332344cb416c9abb4\", element=\"e688b129-2ad1-4044-8474-c342cfcc30d1\")>, <selenium.webdriver.remote.webelement.WebElement (session=\"c6ea20e50da1744332344cb416c9abb4\", element=\"58e0d7cd-821d-4b04-908a-d55a50bd11b6\")>]\n",
      "address [<selenium.webdriver.remote.webelement.WebElement (session=\"c6ea20e50da1744332344cb416c9abb4\", element=\"de8455f0-9688-49fd-a617-9f4f645b772c\")>, <selenium.webdriver.remote.webelement.WebElement (session=\"c6ea20e50da1744332344cb416c9abb4\", element=\"55fc2f8b-6d36-417f-aec3-0e339a6beab0\")>, <selenium.webdriver.remote.webelement.WebElement (session=\"c6ea20e50da1744332344cb416c9abb4\", element=\"f0317262-14ff-4579-8d2c-1f662ef0ae3e\")>]\n",
      "address [<selenium.webdriver.remote.webelement.WebElement (session=\"c6ea20e50da1744332344cb416c9abb4\", element=\"4ab6222c-fd99-4fb3-86aa-85e12020967c\")>, <selenium.webdriver.remote.webelement.WebElement (session=\"c6ea20e50da1744332344cb416c9abb4\", element=\"45c7ec7d-6fcc-4756-bd37-3671554e9fdc\")>, <selenium.webdriver.remote.webelement.WebElement (session=\"c6ea20e50da1744332344cb416c9abb4\", element=\"20e75f59-1f55-4625-bbf9-860656cdee73\")>]\n",
      "address [<selenium.webdriver.remote.webelement.WebElement (session=\"c6ea20e50da1744332344cb416c9abb4\", element=\"97646bc0-70e5-41cb-b197-3e0b31d1cd8d\")>, <selenium.webdriver.remote.webelement.WebElement (session=\"c6ea20e50da1744332344cb416c9abb4\", element=\"ddba5cea-00ce-448e-a332-ae142b2f9bee\")>, <selenium.webdriver.remote.webelement.WebElement (session=\"c6ea20e50da1744332344cb416c9abb4\", element=\"ec508d2e-db99-46e5-a3c7-e590405e90ae\")>]\n",
      "address [<selenium.webdriver.remote.webelement.WebElement (session=\"c6ea20e50da1744332344cb416c9abb4\", element=\"87640248-d376-490f-b80a-d7746c004ed0\")>, <selenium.webdriver.remote.webelement.WebElement (session=\"c6ea20e50da1744332344cb416c9abb4\", element=\"44a5e281-4515-4819-91e8-39dbb888dd7f\")>, <selenium.webdriver.remote.webelement.WebElement (session=\"c6ea20e50da1744332344cb416c9abb4\", element=\"82bc11e1-dc52-4422-8c26-cb110bfdfb83\")>]\n",
      "address [<selenium.webdriver.remote.webelement.WebElement (session=\"c6ea20e50da1744332344cb416c9abb4\", element=\"d9b5a74f-944e-41ed-a6fe-338ef94ae29b\")>, <selenium.webdriver.remote.webelement.WebElement (session=\"c6ea20e50da1744332344cb416c9abb4\", element=\"490a1dd7-183e-4c6d-a95a-af4c31453252\")>, <selenium.webdriver.remote.webelement.WebElement (session=\"c6ea20e50da1744332344cb416c9abb4\", element=\"efa8af05-4c59-4b5d-866d-14118b7365c6\")>]\n",
      "address [<selenium.webdriver.remote.webelement.WebElement (session=\"c6ea20e50da1744332344cb416c9abb4\", element=\"1766cf54-d1f4-42d1-9061-a646a503dfac\")>, <selenium.webdriver.remote.webelement.WebElement (session=\"c6ea20e50da1744332344cb416c9abb4\", element=\"fc488b87-7d93-4fa5-b529-38fc0ec39cbf\")>, <selenium.webdriver.remote.webelement.WebElement (session=\"c6ea20e50da1744332344cb416c9abb4\", element=\"abfaaf8e-413e-43f8-9065-bc651a3f58ee\")>]\n",
      "address [<selenium.webdriver.remote.webelement.WebElement (session=\"c6ea20e50da1744332344cb416c9abb4\", element=\"b3a570b7-5082-4e66-9952-9adad2f69fd0\")>, <selenium.webdriver.remote.webelement.WebElement (session=\"c6ea20e50da1744332344cb416c9abb4\", element=\"4e6a808a-e9e7-40b4-ab27-9d7109bf0015\")>, <selenium.webdriver.remote.webelement.WebElement (session=\"c6ea20e50da1744332344cb416c9abb4\", element=\"5238cf19-7c0a-4734-81d4-910569380207\")>]\n",
      "address [<selenium.webdriver.remote.webelement.WebElement (session=\"c6ea20e50da1744332344cb416c9abb4\", element=\"97d2e1bb-5bf1-4aa3-b8dc-cfcf966344fe\")>, <selenium.webdriver.remote.webelement.WebElement (session=\"c6ea20e50da1744332344cb416c9abb4\", element=\"0f07c956-ab56-43ae-ad23-7a696e3626fd\")>, <selenium.webdriver.remote.webelement.WebElement (session=\"c6ea20e50da1744332344cb416c9abb4\", element=\"02bf7b14-fb68-4657-8a57-cf743b254c19\")>]\n",
      "address [<selenium.webdriver.remote.webelement.WebElement (session=\"c6ea20e50da1744332344cb416c9abb4\", element=\"ae7b9d63-ad3f-4ec4-b956-eb0ca19c1e99\")>, <selenium.webdriver.remote.webelement.WebElement (session=\"c6ea20e50da1744332344cb416c9abb4\", element=\"a78ff42f-0894-4920-8f91-ec3c8f09bc20\")>, <selenium.webdriver.remote.webelement.WebElement (session=\"c6ea20e50da1744332344cb416c9abb4\", element=\"1096206a-3edd-44a2-8c28-e8a478074e07\")>]\n"
     ]
    }
   ],
   "source": [
    "agree = True\n",
    "for index, each_parcel_dict in enumerate(cleaned_list_of_dicts[151:]):\n",
    "    sales_data = get_all_data(each_parcel_dict[\"parcel_id\"], agree)\n",
    "    agree = False\n",
    "    all_sales_data.extend(sales_data)\n",
    "#     print(index, \"done\")"
   ]
  },
  {
   "cell_type": "code",
   "execution_count": 16,
   "id": "1da78510",
   "metadata": {},
   "outputs": [
    {
     "data": {
      "text/plain": [
       "760"
      ]
     },
     "execution_count": 16,
     "metadata": {},
     "output_type": "execute_result"
    }
   ],
   "source": [
    "len(all_sales_data)"
   ]
  },
  {
   "cell_type": "code",
   "execution_count": null,
   "id": "59cec6dd",
   "metadata": {},
   "outputs": [],
   "source": [
    "pd.set_option('display.max_columns', None)\n",
    "magnolia_df = pd.DataFrame(all_sales_data)"
   ]
  },
  {
   "cell_type": "code",
   "execution_count": null,
   "id": "ddd7f3ab",
   "metadata": {},
   "outputs": [],
   "source": [
    "magnolia_df"
   ]
  },
  {
   "cell_type": "code",
   "execution_count": null,
   "id": "01e21a14",
   "metadata": {},
   "outputs": [],
   "source": [
    "magnolia_df.to_csv('magnolia_NEW.csv')"
   ]
  },
  {
   "cell_type": "code",
   "execution_count": null,
   "id": "ce7e6335",
   "metadata": {},
   "outputs": [],
   "source": []
  }
 ],
 "metadata": {
  "kernelspec": {
   "display_name": "Python 3 (ipykernel)",
   "language": "python",
   "name": "python3"
  },
  "language_info": {
   "codemirror_mode": {
    "name": "ipython",
    "version": 3
   },
   "file_extension": ".py",
   "mimetype": "text/x-python",
   "name": "python",
   "nbconvert_exporter": "python",
   "pygments_lexer": "ipython3",
   "version": "3.8.9"
  }
 },
 "nbformat": 4,
 "nbformat_minor": 5
}
