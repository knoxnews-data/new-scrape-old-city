{
 "cells": [
  {
   "cell_type": "code",
   "execution_count": 1,
   "id": "847f55c8",
   "metadata": {},
   "outputs": [],
   "source": [
    "import pdfplumber\n",
    "import re\n",
    "import pandas as pd\n",
    "import time\n",
    "from selenium import webdriver\n",
    "from selenium.webdriver.common.by import By\n",
    "from selenium.webdriver.support.ui import WebDriverWait\n",
    "from selenium.webdriver.support import expected_conditions as EC\n",
    "from selenium.webdriver.support.ui import Select\n",
    "from webdriver_manager.chrome import ChromeDriverManager"
   ]
  },
  {
   "cell_type": "code",
   "execution_count": 2,
   "id": "dc772859",
   "metadata": {},
   "outputs": [],
   "source": [
    "pdf = pdfplumber.open(\"Old_city.pdf\")\n",
    "all_pages = pdf.pages\n",
    "cleaned_lines = []\n",
    "cleaned_list_of_dicts = []\n",
    "for each_page in all_pages:\n",
    "    text_of_each_page = each_page.extract_text()\n",
    "    all_lines = text_of_each_page.splitlines()\n",
    "    for each_line in all_lines:\n",
    "        if each_line == \"Address\":\n",
    "            continue\n",
    "        elif each_line == \"Owner Card  Mailing Label  Map and Details Report\":\n",
    "            continue\n",
    "        elif each_line == \"KGIS Parcel Report\":\n",
    "            continue\n",
    "        else:\n",
    "            cleaned_lines.append(each_line)\n",
    "each_dict = {}\n",
    "for index, cleaned_line in enumerate(cleaned_lines):\n",
    "    if re.match(r\"^09[0-9A-Z]{5,}$\", cleaned_line):\n",
    "        # parcel_id\n",
    "        each_dict[\"parcel_id\"] = cleaned_line\n",
    "        each_dict[\"name\"] = cleaned_lines[index + 1]\n",
    "        cleaned_list_of_dicts.append(each_dict)\n",
    "        each_dict = {}\n",
    "    else:\n",
    "        continue"
   ]
  },
  {
   "cell_type": "code",
   "execution_count": 3,
   "id": "3f5a4d71",
   "metadata": {},
   "outputs": [
    {
     "data": {
      "text/plain": [
       "336"
      ]
     },
     "execution_count": 3,
     "metadata": {},
     "output_type": "execute_result"
    }
   ],
   "source": [
    "len(cleaned_list_of_dicts)"
   ]
  },
  {
   "cell_type": "code",
   "execution_count": null,
   "id": "29191fed",
   "metadata": {},
   "outputs": [],
   "source": [
    "# cleaned_list_of_dicts"
   ]
  },
  {
   "cell_type": "code",
   "execution_count": 17,
   "id": "be3d4e87",
   "metadata": {},
   "outputs": [
    {
     "name": "stderr",
     "output_type": "stream",
     "text": [
      "/var/folders/2g/fbs070qj3qd3kw4ntm252trc0000gp/T/ipykernel_90668/1503906442.py:1: DeprecationWarning: executable_path has been deprecated, please pass in a Service object\n",
      "  driver = webdriver.Chrome(ChromeDriverManager().install())\n"
     ]
    }
   ],
   "source": [
    "driver = webdriver.Chrome(ChromeDriverManager().install())"
   ]
  },
  {
   "cell_type": "code",
   "execution_count": 18,
   "id": "95c7f66a",
   "metadata": {},
   "outputs": [],
   "source": [
    "def get_all_data(parcel_number, agree):\n",
    "    driver.get(\n",
    "        \"https://propertyinfo.knoxcountytn.gov/search/commonsearch.aspx?mode=realprop\"\n",
    "    )\n",
    "    if agree:\n",
    "        try:\n",
    "            driver.find_element(By.ID, \"btAgree\").click()\n",
    "        except:\n",
    "            print(\"No agree modal found\")\n",
    "    driver.find_element(By.ID, \"inpParid\").send_keys(parcel_number)\n",
    "    driver.find_element(By.ID, \"btSearch\").click()\n",
    "    error_passing = driver.find_elements(By.ID, \"searchResults\")\n",
    "    # print(error_passing)\n",
    "    if len(error_passing) > 0:\n",
    "        error_passing[0].find_element(By.CLASS_NAME, \"SearchResults\").click()\n",
    "    driver.find_element(By.XPATH, '//*[@id=\"sidemenu\"]/ul/li[3]/a').click()\n",
    "    parcel_id_dirty = driver.find_element(By.CLASS_NAME, \"DataletHeaderTop\").text\n",
    "    address_data = driver.find_elements(By.CLASS_NAME, \"DataletHeaderBottom\")\n",
    "    parcel_id = parcel_id_dirty.split(\": \")[1]\n",
    "    sales_data = []\n",
    "    print(\"address\", address_data)\n",
    "    try:\n",
    "        sales_details = driver.find_element(By.ID, \"Sales Summary\")\n",
    "        # print(\"about to rows\")\n",
    "        rows = sales_details.find_elements(By.TAG_NAME, \"tr\")[1:]\n",
    "        # print(\"about to row\")\n",
    "        for row in rows:\n",
    "            all_data = row.find_elements(By.TAG_NAME, \"td\")\n",
    "            # print(\"all_data\", all_data)\n",
    "            if len(all_data) < 5:\n",
    "                # print(\"insufficient data\")\n",
    "                continue\n",
    "            else:\n",
    "                data = {}\n",
    "                date = all_data[0].text\n",
    "                # print(\"date done\")\n",
    "                book = all_data[1].text\n",
    "                # print(\"book done\")\n",
    "                page = all_data[2].text\n",
    "                # print(\"page done\")\n",
    "                price = all_data[3].text\n",
    "                # print(\"price done\")\n",
    "                grantee = all_data[-1].text\n",
    "                # print(\"grantee done\")\n",
    "                address = address_data[-1].text\n",
    "                # print(\"address done\")\n",
    "\n",
    "                data[\"date\"] = date\n",
    "                data[\"book_number\"] = book\n",
    "                data[\"page\"] = page\n",
    "                data[\"sale_price\"] = price\n",
    "                data[\"grantee_name\"] = grantee\n",
    "                data[\"parcel_id_new\"] = parcel_id\n",
    "                data[\"address\"] = address\n",
    "                sales_data.append(data)\n",
    "    except Exception as e:\n",
    "        print(e)\n",
    "        data = {}\n",
    "        data[\"date\"] = \"Not found\"\n",
    "        data[\"book_number\"] = \"Not found\"\n",
    "        data[\"page\"] = \"Not found\"\n",
    "        data[\"sale_price\"] = \"Not found\"\n",
    "        data[\"grantee_name\"] = \"Not found\"\n",
    "        data[\"parcel_id_new\"] = \"Not found\"\n",
    "        data[\"address\"] = \"Not found\"\n",
    "        sales_data.append(data)\n",
    "    return sales_data"
   ]
  },
  {
   "cell_type": "code",
   "execution_count": 6,
   "id": "284a2c7b",
   "metadata": {},
   "outputs": [],
   "source": [
    "all_sales_data = []"
   ]
  },
  {
   "cell_type": "code",
   "execution_count": 19,
   "id": "06a3df87",
   "metadata": {},
   "outputs": [
    {
     "name": "stdout",
     "output_type": "stream",
     "text": [
      "address [<selenium.webdriver.remote.webelement.WebElement (session=\"0cc014dd70888029971e47215caadd8c\", element=\"f12b6be2-c2f5-4fb1-ab36-f518e09aa3cf\")>, <selenium.webdriver.remote.webelement.WebElement (session=\"0cc014dd70888029971e47215caadd8c\", element=\"ba12ce58-7e71-4ec6-bec0-e743aaaabcc6\")>, <selenium.webdriver.remote.webelement.WebElement (session=\"0cc014dd70888029971e47215caadd8c\", element=\"7dc4b255-5540-4c8f-9803-279a3c1aae50\")>]\n",
      "address [<selenium.webdriver.remote.webelement.WebElement (session=\"0cc014dd70888029971e47215caadd8c\", element=\"4929cdb5-2622-47cc-9870-9f6dd96e29b6\")>, <selenium.webdriver.remote.webelement.WebElement (session=\"0cc014dd70888029971e47215caadd8c\", element=\"1f91bfde-7a9d-4aef-a21a-2325e1f64c9b\")>, <selenium.webdriver.remote.webelement.WebElement (session=\"0cc014dd70888029971e47215caadd8c\", element=\"0f4b350a-75a6-4578-94c6-4b6c98caaa45\")>]\n",
      "address [<selenium.webdriver.remote.webelement.WebElement (session=\"0cc014dd70888029971e47215caadd8c\", element=\"83504a9d-f0e3-4c3c-a285-59c2dbf997ef\")>, <selenium.webdriver.remote.webelement.WebElement (session=\"0cc014dd70888029971e47215caadd8c\", element=\"9c7e812c-8f39-4c22-99aa-f7cfa746821c\")>, <selenium.webdriver.remote.webelement.WebElement (session=\"0cc014dd70888029971e47215caadd8c\", element=\"8bcac2ec-cedf-4fd5-b414-62f597638f35\")>]\n",
      "address [<selenium.webdriver.remote.webelement.WebElement (session=\"0cc014dd70888029971e47215caadd8c\", element=\"321dcc45-fbf5-44a2-825e-7f7de79ada77\")>, <selenium.webdriver.remote.webelement.WebElement (session=\"0cc014dd70888029971e47215caadd8c\", element=\"8e64c62c-3e2e-4f0e-9951-583a033c1497\")>, <selenium.webdriver.remote.webelement.WebElement (session=\"0cc014dd70888029971e47215caadd8c\", element=\"80568277-28aa-418c-981c-3ff32d7fe500\")>]\n",
      "address [<selenium.webdriver.remote.webelement.WebElement (session=\"0cc014dd70888029971e47215caadd8c\", element=\"e715d830-11c1-4166-951a-903d0db706c5\")>, <selenium.webdriver.remote.webelement.WebElement (session=\"0cc014dd70888029971e47215caadd8c\", element=\"d6c20319-c4ae-46c5-b77d-7f51ed3c2d0b\")>, <selenium.webdriver.remote.webelement.WebElement (session=\"0cc014dd70888029971e47215caadd8c\", element=\"08364931-cb8c-492b-bd21-2dba9f854503\")>]\n",
      "address [<selenium.webdriver.remote.webelement.WebElement (session=\"0cc014dd70888029971e47215caadd8c\", element=\"f709100e-7832-4853-aa69-415dd7a58f84\")>, <selenium.webdriver.remote.webelement.WebElement (session=\"0cc014dd70888029971e47215caadd8c\", element=\"65caa09b-a0e6-41ca-838a-e03bdf42b7c9\")>, <selenium.webdriver.remote.webelement.WebElement (session=\"0cc014dd70888029971e47215caadd8c\", element=\"35cd97b7-09e2-43eb-9280-69d138d65103\")>]\n",
      "address [<selenium.webdriver.remote.webelement.WebElement (session=\"0cc014dd70888029971e47215caadd8c\", element=\"b71a2a3e-5f68-4369-997a-4734116edc3b\")>, <selenium.webdriver.remote.webelement.WebElement (session=\"0cc014dd70888029971e47215caadd8c\", element=\"18d10669-f77f-44a7-a8d1-23278fdcbdaf\")>, <selenium.webdriver.remote.webelement.WebElement (session=\"0cc014dd70888029971e47215caadd8c\", element=\"76813821-9734-40c3-bbdd-ba6491317fc7\")>]\n",
      "address [<selenium.webdriver.remote.webelement.WebElement (session=\"0cc014dd70888029971e47215caadd8c\", element=\"c043418f-2828-42f8-8cd9-175ca57654c4\")>, <selenium.webdriver.remote.webelement.WebElement (session=\"0cc014dd70888029971e47215caadd8c\", element=\"03395078-8204-4176-8afb-ea2a27ada02a\")>, <selenium.webdriver.remote.webelement.WebElement (session=\"0cc014dd70888029971e47215caadd8c\", element=\"5ad0a986-603c-4a0e-994a-98be1b4c4805\")>]\n",
      "address [<selenium.webdriver.remote.webelement.WebElement (session=\"0cc014dd70888029971e47215caadd8c\", element=\"7dcb2e04-8e3f-4739-bff9-d48b8f943c25\")>, <selenium.webdriver.remote.webelement.WebElement (session=\"0cc014dd70888029971e47215caadd8c\", element=\"a05aabef-cf8e-4b45-9c0d-31d0dd6f9ca2\")>, <selenium.webdriver.remote.webelement.WebElement (session=\"0cc014dd70888029971e47215caadd8c\", element=\"5a7642d5-5a66-4854-b0bb-474063b3f292\")>]\n",
      "address [<selenium.webdriver.remote.webelement.WebElement (session=\"0cc014dd70888029971e47215caadd8c\", element=\"9832fb8f-1fab-46d0-940c-5d52fc7da9b4\")>, <selenium.webdriver.remote.webelement.WebElement (session=\"0cc014dd70888029971e47215caadd8c\", element=\"c28aa262-4ba9-48a1-9556-ba694fbf3824\")>, <selenium.webdriver.remote.webelement.WebElement (session=\"0cc014dd70888029971e47215caadd8c\", element=\"a7e7d5b4-e0be-4604-83c3-302d35147eac\")>]\n",
      "address [<selenium.webdriver.remote.webelement.WebElement (session=\"0cc014dd70888029971e47215caadd8c\", element=\"ebf0539a-2740-4771-925f-7323dc6f8ebe\")>, <selenium.webdriver.remote.webelement.WebElement (session=\"0cc014dd70888029971e47215caadd8c\", element=\"b34159ac-9aa6-40e1-9959-2c0ba17ae97e\")>, <selenium.webdriver.remote.webelement.WebElement (session=\"0cc014dd70888029971e47215caadd8c\", element=\"614b28c8-6cc3-4f70-8589-74ec784b6e19\")>]\n",
      "address [<selenium.webdriver.remote.webelement.WebElement (session=\"0cc014dd70888029971e47215caadd8c\", element=\"bcf3e6b1-4c58-4e89-b210-b37569760bee\")>, <selenium.webdriver.remote.webelement.WebElement (session=\"0cc014dd70888029971e47215caadd8c\", element=\"0fa52c73-49e6-46b3-b3a5-5f1e49b8ba2f\")>, <selenium.webdriver.remote.webelement.WebElement (session=\"0cc014dd70888029971e47215caadd8c\", element=\"6af06a0f-3368-4f58-ab2c-be684669ce4c\")>]\n",
      "address [<selenium.webdriver.remote.webelement.WebElement (session=\"0cc014dd70888029971e47215caadd8c\", element=\"cf81d090-0b13-482a-a82a-85cf680a578b\")>, <selenium.webdriver.remote.webelement.WebElement (session=\"0cc014dd70888029971e47215caadd8c\", element=\"6c6a781b-6de3-4c14-8a4b-18239f29e31e\")>, <selenium.webdriver.remote.webelement.WebElement (session=\"0cc014dd70888029971e47215caadd8c\", element=\"853dd6c2-704a-4252-9214-6242892fe4ca\")>]\n",
      "address [<selenium.webdriver.remote.webelement.WebElement (session=\"0cc014dd70888029971e47215caadd8c\", element=\"11539490-a7ad-417c-b831-cd077b9d5340\")>, <selenium.webdriver.remote.webelement.WebElement (session=\"0cc014dd70888029971e47215caadd8c\", element=\"7d752581-80f3-4a6f-a212-c30c33dbed78\")>, <selenium.webdriver.remote.webelement.WebElement (session=\"0cc014dd70888029971e47215caadd8c\", element=\"88ad6781-9c1e-465a-b55f-2a584b8b0755\")>]\n",
      "address [<selenium.webdriver.remote.webelement.WebElement (session=\"0cc014dd70888029971e47215caadd8c\", element=\"b98a40c4-864a-42d8-9a7b-e9bd7abbbe99\")>, <selenium.webdriver.remote.webelement.WebElement (session=\"0cc014dd70888029971e47215caadd8c\", element=\"976c5a9a-b23a-43dd-9968-e650421774c0\")>, <selenium.webdriver.remote.webelement.WebElement (session=\"0cc014dd70888029971e47215caadd8c\", element=\"9fe169c0-d35e-458b-808f-ad63fadebf09\")>]\n",
      "address [<selenium.webdriver.remote.webelement.WebElement (session=\"0cc014dd70888029971e47215caadd8c\", element=\"8837948d-6789-49af-9a21-71b37a3290b1\")>, <selenium.webdriver.remote.webelement.WebElement (session=\"0cc014dd70888029971e47215caadd8c\", element=\"2cdd1453-a414-445e-ab51-60d510cb8e83\")>, <selenium.webdriver.remote.webelement.WebElement (session=\"0cc014dd70888029971e47215caadd8c\", element=\"e0bccc91-7a43-4e0a-9160-34a537d2efa4\")>]\n",
      "address [<selenium.webdriver.remote.webelement.WebElement (session=\"0cc014dd70888029971e47215caadd8c\", element=\"5af53d24-20cf-4ce9-85d2-54450c0a0c24\")>, <selenium.webdriver.remote.webelement.WebElement (session=\"0cc014dd70888029971e47215caadd8c\", element=\"2ac2665d-954e-400a-bf6c-3b362a03e3e7\")>, <selenium.webdriver.remote.webelement.WebElement (session=\"0cc014dd70888029971e47215caadd8c\", element=\"e61d5137-07dd-439b-bd86-e74e55fe21ba\")>]\n",
      "address [<selenium.webdriver.remote.webelement.WebElement (session=\"0cc014dd70888029971e47215caadd8c\", element=\"b528f28d-b75c-4678-b86c-2f030bcf3031\")>, <selenium.webdriver.remote.webelement.WebElement (session=\"0cc014dd70888029971e47215caadd8c\", element=\"54785008-a0bf-47b2-b1a7-16b3c9d71e0c\")>, <selenium.webdriver.remote.webelement.WebElement (session=\"0cc014dd70888029971e47215caadd8c\", element=\"b47a1b25-adbc-4a56-abde-c53fee06d919\")>]\n",
      "address [<selenium.webdriver.remote.webelement.WebElement (session=\"0cc014dd70888029971e47215caadd8c\", element=\"bbdd2cd8-e0d4-4834-8210-b8b5345f57dd\")>, <selenium.webdriver.remote.webelement.WebElement (session=\"0cc014dd70888029971e47215caadd8c\", element=\"501afa42-7e4d-4e14-900b-d9e6ae9b861c\")>, <selenium.webdriver.remote.webelement.WebElement (session=\"0cc014dd70888029971e47215caadd8c\", element=\"d96dcd82-bbbb-48f4-8aef-edac60485479\")>]\n"
     ]
    },
    {
     "name": "stdout",
     "output_type": "stream",
     "text": [
      "address [<selenium.webdriver.remote.webelement.WebElement (session=\"0cc014dd70888029971e47215caadd8c\", element=\"032f9963-6573-4563-a1cc-d4fce9ae0542\")>, <selenium.webdriver.remote.webelement.WebElement (session=\"0cc014dd70888029971e47215caadd8c\", element=\"65071f8e-44e7-4937-ac16-c0e10cce5b8b\")>, <selenium.webdriver.remote.webelement.WebElement (session=\"0cc014dd70888029971e47215caadd8c\", element=\"c6352c31-3226-4d50-9937-06d5545a7595\")>]\n",
      "address [<selenium.webdriver.remote.webelement.WebElement (session=\"0cc014dd70888029971e47215caadd8c\", element=\"5630221d-00c1-4868-a39e-9b1710831d48\")>, <selenium.webdriver.remote.webelement.WebElement (session=\"0cc014dd70888029971e47215caadd8c\", element=\"4252cd57-c088-43a3-b7b1-ddfe51fb7a3f\")>, <selenium.webdriver.remote.webelement.WebElement (session=\"0cc014dd70888029971e47215caadd8c\", element=\"ac7f7103-b5b9-46cd-919e-cc68b923c868\")>]\n",
      "address [<selenium.webdriver.remote.webelement.WebElement (session=\"0cc014dd70888029971e47215caadd8c\", element=\"ebaa11df-76a1-4b91-a677-e70a28e14461\")>, <selenium.webdriver.remote.webelement.WebElement (session=\"0cc014dd70888029971e47215caadd8c\", element=\"685779fe-d549-472b-b38c-e586ba3b6ca4\")>, <selenium.webdriver.remote.webelement.WebElement (session=\"0cc014dd70888029971e47215caadd8c\", element=\"b0ca5320-53b7-4b56-a6e8-d3c18e9a0b64\")>]\n",
      "address [<selenium.webdriver.remote.webelement.WebElement (session=\"0cc014dd70888029971e47215caadd8c\", element=\"bf8e94fe-a552-4cf3-a75b-41766338250f\")>, <selenium.webdriver.remote.webelement.WebElement (session=\"0cc014dd70888029971e47215caadd8c\", element=\"ae8e51ac-2ed5-4293-b763-254e92f27b27\")>, <selenium.webdriver.remote.webelement.WebElement (session=\"0cc014dd70888029971e47215caadd8c\", element=\"293a643a-08d6-4109-a757-153240885fdc\")>]\n",
      "address [<selenium.webdriver.remote.webelement.WebElement (session=\"0cc014dd70888029971e47215caadd8c\", element=\"fbe4f8ea-1a80-4579-8b52-e8a8b73dfa06\")>, <selenium.webdriver.remote.webelement.WebElement (session=\"0cc014dd70888029971e47215caadd8c\", element=\"e42a2707-1762-4a12-8aac-85d4d3aead0b\")>, <selenium.webdriver.remote.webelement.WebElement (session=\"0cc014dd70888029971e47215caadd8c\", element=\"f34612a9-52bd-4e8a-bd88-8ff7c2a18230\")>]\n",
      "address [<selenium.webdriver.remote.webelement.WebElement (session=\"0cc014dd70888029971e47215caadd8c\", element=\"60e4df44-8260-401d-8e76-8074ebb35bc6\")>, <selenium.webdriver.remote.webelement.WebElement (session=\"0cc014dd70888029971e47215caadd8c\", element=\"0a255292-0c21-4372-8afc-27d96c036fec\")>, <selenium.webdriver.remote.webelement.WebElement (session=\"0cc014dd70888029971e47215caadd8c\", element=\"e2683f37-40cc-4232-97db-0b7c375b098a\")>]\n",
      "address [<selenium.webdriver.remote.webelement.WebElement (session=\"0cc014dd70888029971e47215caadd8c\", element=\"2e6c42b9-0792-4407-aa1d-9f68e9bc4112\")>, <selenium.webdriver.remote.webelement.WebElement (session=\"0cc014dd70888029971e47215caadd8c\", element=\"f6c0a369-7d52-4423-8660-560aef915280\")>, <selenium.webdriver.remote.webelement.WebElement (session=\"0cc014dd70888029971e47215caadd8c\", element=\"cd795444-903a-49d9-828a-b9d80a561f5b\")>]\n",
      "address [<selenium.webdriver.remote.webelement.WebElement (session=\"0cc014dd70888029971e47215caadd8c\", element=\"0e9cbba4-e126-4de6-955e-1bbd9c8c03d1\")>, <selenium.webdriver.remote.webelement.WebElement (session=\"0cc014dd70888029971e47215caadd8c\", element=\"a491a567-6316-4b14-9dbb-7d2e6467b881\")>, <selenium.webdriver.remote.webelement.WebElement (session=\"0cc014dd70888029971e47215caadd8c\", element=\"3586ea48-3a8d-44cd-9c15-ecff5fc52bb8\")>]\n",
      "address [<selenium.webdriver.remote.webelement.WebElement (session=\"0cc014dd70888029971e47215caadd8c\", element=\"0c0debc0-b5b9-4482-bdb7-f23791594a47\")>, <selenium.webdriver.remote.webelement.WebElement (session=\"0cc014dd70888029971e47215caadd8c\", element=\"a2f79a1d-f2e9-4abe-acb4-914e64ab2b90\")>, <selenium.webdriver.remote.webelement.WebElement (session=\"0cc014dd70888029971e47215caadd8c\", element=\"4d66d89b-d11a-4770-827f-1e7a9a7f7362\")>]\n",
      "address [<selenium.webdriver.remote.webelement.WebElement (session=\"0cc014dd70888029971e47215caadd8c\", element=\"1bf6a17a-9ab4-4a98-a235-4adced819048\")>, <selenium.webdriver.remote.webelement.WebElement (session=\"0cc014dd70888029971e47215caadd8c\", element=\"9b4a1d5d-6066-493a-8e90-745e2383254e\")>, <selenium.webdriver.remote.webelement.WebElement (session=\"0cc014dd70888029971e47215caadd8c\", element=\"18883970-3ced-4c83-88e9-c1bee909d963\")>]\n",
      "address [<selenium.webdriver.remote.webelement.WebElement (session=\"0cc014dd70888029971e47215caadd8c\", element=\"9aa4aa85-ee47-4890-aba1-984fe5ed0532\")>, <selenium.webdriver.remote.webelement.WebElement (session=\"0cc014dd70888029971e47215caadd8c\", element=\"4497a288-88fe-4734-b11b-3da394a204ad\")>, <selenium.webdriver.remote.webelement.WebElement (session=\"0cc014dd70888029971e47215caadd8c\", element=\"90621632-a2e6-4f0d-b357-eb43b0eef894\")>]\n",
      "address [<selenium.webdriver.remote.webelement.WebElement (session=\"0cc014dd70888029971e47215caadd8c\", element=\"0f5696a4-caf2-4f92-bf6a-219d0895f66d\")>, <selenium.webdriver.remote.webelement.WebElement (session=\"0cc014dd70888029971e47215caadd8c\", element=\"df1df2c6-2501-41d5-8c16-2f38d44f7635\")>, <selenium.webdriver.remote.webelement.WebElement (session=\"0cc014dd70888029971e47215caadd8c\", element=\"24908efe-6b09-44c4-8f33-fe37c65e1c2d\")>]\n",
      "address [<selenium.webdriver.remote.webelement.WebElement (session=\"0cc014dd70888029971e47215caadd8c\", element=\"0ed59411-5b79-48ba-b049-343ded789616\")>, <selenium.webdriver.remote.webelement.WebElement (session=\"0cc014dd70888029971e47215caadd8c\", element=\"6f3e3381-2504-4701-b176-31fa0a50cedf\")>, <selenium.webdriver.remote.webelement.WebElement (session=\"0cc014dd70888029971e47215caadd8c\", element=\"f040ca3d-2abd-437a-87fd-f62465a482b2\")>]\n",
      "address [<selenium.webdriver.remote.webelement.WebElement (session=\"0cc014dd70888029971e47215caadd8c\", element=\"14b1c280-df34-4cf7-8a05-5143fc2d995f\")>, <selenium.webdriver.remote.webelement.WebElement (session=\"0cc014dd70888029971e47215caadd8c\", element=\"14d45a1c-ccc7-4631-adff-daf0d289f1cd\")>, <selenium.webdriver.remote.webelement.WebElement (session=\"0cc014dd70888029971e47215caadd8c\", element=\"9b5c1688-f9ce-4a9c-9cf7-f81de78700e0\")>]\n",
      "address [<selenium.webdriver.remote.webelement.WebElement (session=\"0cc014dd70888029971e47215caadd8c\", element=\"ed59ef0a-f227-4df5-97b1-eb924eb03701\")>, <selenium.webdriver.remote.webelement.WebElement (session=\"0cc014dd70888029971e47215caadd8c\", element=\"e086cbeb-2566-4fe6-b189-19025c857943\")>, <selenium.webdriver.remote.webelement.WebElement (session=\"0cc014dd70888029971e47215caadd8c\", element=\"0373c6f4-2bab-4b2b-879f-1044ff0978a2\")>]\n",
      "address [<selenium.webdriver.remote.webelement.WebElement (session=\"0cc014dd70888029971e47215caadd8c\", element=\"8b6800f7-25b5-40ca-9305-b281dc6ee91f\")>, <selenium.webdriver.remote.webelement.WebElement (session=\"0cc014dd70888029971e47215caadd8c\", element=\"4ce8d05c-d10d-4cf9-ab66-4a9bf3fe68bd\")>, <selenium.webdriver.remote.webelement.WebElement (session=\"0cc014dd70888029971e47215caadd8c\", element=\"de400aef-1a5b-40a3-bb4e-6f369ec0a81b\")>]\n"
     ]
    }
   ],
   "source": [
    "agree = True\n",
    "for index, each_parcel_dict in enumerate(cleaned_list_of_dicts[301:]):\n",
    "    sales_data = get_all_data(each_parcel_dict[\"parcel_id\"], agree)\n",
    "    agree = False\n",
    "    all_sales_data.extend(sales_data)\n",
    "#     print(index, \"done\")"
   ]
  },
  {
   "cell_type": "code",
   "execution_count": 20,
   "id": "1da78510",
   "metadata": {},
   "outputs": [
    {
     "data": {
      "text/plain": [
       "1275"
      ]
     },
     "execution_count": 20,
     "metadata": {},
     "output_type": "execute_result"
    }
   ],
   "source": [
    "len(all_sales_data)"
   ]
  },
  {
   "cell_type": "code",
   "execution_count": 21,
   "id": "59cec6dd",
   "metadata": {},
   "outputs": [],
   "source": [
    "pd.set_option('display.max_columns', None)\n",
    "old_city = pd.DataFrame(all_sales_data)"
   ]
  },
  {
   "cell_type": "code",
   "execution_count": 22,
   "id": "dbe04e12",
   "metadata": {},
   "outputs": [
    {
     "data": {
      "text/html": [
       "<div>\n",
       "<style scoped>\n",
       "    .dataframe tbody tr th:only-of-type {\n",
       "        vertical-align: middle;\n",
       "    }\n",
       "\n",
       "    .dataframe tbody tr th {\n",
       "        vertical-align: top;\n",
       "    }\n",
       "\n",
       "    .dataframe thead th {\n",
       "        text-align: right;\n",
       "    }\n",
       "</style>\n",
       "<table border=\"1\" class=\"dataframe\">\n",
       "  <thead>\n",
       "    <tr style=\"text-align: right;\">\n",
       "      <th></th>\n",
       "      <th>date</th>\n",
       "      <th>book_number</th>\n",
       "      <th>page</th>\n",
       "      <th>sale_price</th>\n",
       "      <th>grantee_name</th>\n",
       "      <th>parcel_id_new</th>\n",
       "      <th>address</th>\n",
       "    </tr>\n",
       "  </thead>\n",
       "  <tbody>\n",
       "    <tr>\n",
       "      <th>0</th>\n",
       "      <td>12/08/1998</td>\n",
       "      <td>00002309</td>\n",
       "      <td>0000728</td>\n",
       "      <td>$450,000</td>\n",
       "      <td>HEURISTIC WORKSHOP INC</td>\n",
       "      <td>094EF043</td>\n",
       "      <td>203 JACKSON AVE W</td>\n",
       "    </tr>\n",
       "    <tr>\n",
       "      <th>1</th>\n",
       "      <td>07/19/2022</td>\n",
       "      <td>20220721</td>\n",
       "      <td>0004903</td>\n",
       "      <td>$4,000,000</td>\n",
       "      <td>EPHANT GROUP INC</td>\n",
       "      <td>095HA001</td>\n",
       "      <td>130 CENTRAL ST S</td>\n",
       "    </tr>\n",
       "    <tr>\n",
       "      <th>2</th>\n",
       "      <td>04/14/2022</td>\n",
       "      <td>20220419</td>\n",
       "      <td>0080051</td>\n",
       "      <td>$2,400,000</td>\n",
       "      <td>GP CORNER LLC</td>\n",
       "      <td>095HA001</td>\n",
       "      <td>130 CENTRAL ST S</td>\n",
       "    </tr>\n",
       "    <tr>\n",
       "      <th>3</th>\n",
       "      <td>01/29/2021</td>\n",
       "      <td>20210201</td>\n",
       "      <td>0062283</td>\n",
       "      <td>$558,468</td>\n",
       "      <td>WAYLAND-GOODMAN PROPERTIES L P</td>\n",
       "      <td>095HA001</td>\n",
       "      <td>130 CENTRAL ST S</td>\n",
       "    </tr>\n",
       "    <tr>\n",
       "      <th>4</th>\n",
       "      <td>12/17/2004</td>\n",
       "      <td>20041217</td>\n",
       "      <td>0049650</td>\n",
       "      <td>$0</td>\n",
       "      <td>WAYLAND- GOODMAN PROPERTIES L P</td>\n",
       "      <td>095HA001</td>\n",
       "      <td>130 CENTRAL ST S</td>\n",
       "    </tr>\n",
       "    <tr>\n",
       "      <th>...</th>\n",
       "      <td>...</td>\n",
       "      <td>...</td>\n",
       "      <td>...</td>\n",
       "      <td>...</td>\n",
       "      <td>...</td>\n",
       "      <td>...</td>\n",
       "      <td>...</td>\n",
       "    </tr>\n",
       "    <tr>\n",
       "      <th>1270</th>\n",
       "      <td>10/31/2001</td>\n",
       "      <td>20011101</td>\n",
       "      <td>0034821</td>\n",
       "      <td>$700,000</td>\n",
       "      <td>JACKSON AVENUE PARTNERSHIP LLC</td>\n",
       "      <td>095HA016</td>\n",
       "      <td>200 JACKSON AVE E</td>\n",
       "    </tr>\n",
       "    <tr>\n",
       "      <th>1271</th>\n",
       "      <td>05/11/1992</td>\n",
       "      <td>00002082</td>\n",
       "      <td>0000254</td>\n",
       "      <td>$0</td>\n",
       "      <td>BRIGHT-KAPLAN INTERNATIONAL CORPORATION</td>\n",
       "      <td>095HA016</td>\n",
       "      <td>200 JACKSON AVE E</td>\n",
       "    </tr>\n",
       "    <tr>\n",
       "      <th>1272</th>\n",
       "      <td>05/06/1992</td>\n",
       "      <td>00002071</td>\n",
       "      <td>0000534</td>\n",
       "      <td>$225,000</td>\n",
       "      <td>BRIGHT-KAPLAN INTERNATIONAL CORPORATION</td>\n",
       "      <td>095HA016</td>\n",
       "      <td>200 JACKSON AVE E</td>\n",
       "    </tr>\n",
       "    <tr>\n",
       "      <th>1273</th>\n",
       "      <td>09/23/1983</td>\n",
       "      <td>00001798</td>\n",
       "      <td>0000120</td>\n",
       "      <td>$50,000</td>\n",
       "      <td>SHARNAN INC</td>\n",
       "      <td>095HA016</td>\n",
       "      <td>200 JACKSON AVE E</td>\n",
       "    </tr>\n",
       "    <tr>\n",
       "      <th>1274</th>\n",
       "      <td>04/18/1988</td>\n",
       "      <td>00001944</td>\n",
       "      <td>0000441</td>\n",
       "      <td>$0</td>\n",
       "      <td>KNOXVILLES COMMUNITY DEV CORP</td>\n",
       "      <td>094LD005</td>\n",
       "      <td>203 GAY ST S</td>\n",
       "    </tr>\n",
       "  </tbody>\n",
       "</table>\n",
       "<p>1275 rows × 7 columns</p>\n",
       "</div>"
      ],
      "text/plain": [
       "            date book_number     page  sale_price  \\\n",
       "0     12/08/1998    00002309  0000728    $450,000   \n",
       "1     07/19/2022    20220721  0004903  $4,000,000   \n",
       "2     04/14/2022    20220419  0080051  $2,400,000   \n",
       "3     01/29/2021    20210201  0062283    $558,468   \n",
       "4     12/17/2004    20041217  0049650          $0   \n",
       "...          ...         ...      ...         ...   \n",
       "1270  10/31/2001    20011101  0034821    $700,000   \n",
       "1271  05/11/1992    00002082  0000254          $0   \n",
       "1272  05/06/1992    00002071  0000534    $225,000   \n",
       "1273  09/23/1983    00001798  0000120     $50,000   \n",
       "1274  04/18/1988    00001944  0000441          $0   \n",
       "\n",
       "                                 grantee_name parcel_id_new            address  \n",
       "0                      HEURISTIC WORKSHOP INC      094EF043  203 JACKSON AVE W  \n",
       "1                            EPHANT GROUP INC      095HA001   130 CENTRAL ST S  \n",
       "2                               GP CORNER LLC      095HA001   130 CENTRAL ST S  \n",
       "3              WAYLAND-GOODMAN PROPERTIES L P      095HA001   130 CENTRAL ST S  \n",
       "4             WAYLAND- GOODMAN PROPERTIES L P      095HA001   130 CENTRAL ST S  \n",
       "...                                       ...           ...                ...  \n",
       "1270           JACKSON AVENUE PARTNERSHIP LLC      095HA016  200 JACKSON AVE E  \n",
       "1271  BRIGHT-KAPLAN INTERNATIONAL CORPORATION      095HA016  200 JACKSON AVE E  \n",
       "1272  BRIGHT-KAPLAN INTERNATIONAL CORPORATION      095HA016  200 JACKSON AVE E  \n",
       "1273                              SHARNAN INC      095HA016  200 JACKSON AVE E  \n",
       "1274            KNOXVILLES COMMUNITY DEV CORP      094LD005       203 GAY ST S  \n",
       "\n",
       "[1275 rows x 7 columns]"
      ]
     },
     "execution_count": 22,
     "metadata": {},
     "output_type": "execute_result"
    }
   ],
   "source": [
    "old_city"
   ]
  },
  {
   "cell_type": "code",
   "execution_count": 23,
   "id": "8875c074",
   "metadata": {},
   "outputs": [],
   "source": [
    "old_city.to_csv('old-city.csv')"
   ]
  }
 ],
 "metadata": {
  "kernelspec": {
   "display_name": "Python 3 (ipykernel)",
   "language": "python",
   "name": "python3"
  },
  "language_info": {
   "codemirror_mode": {
    "name": "ipython",
    "version": 3
   },
   "file_extension": ".py",
   "mimetype": "text/x-python",
   "name": "python",
   "nbconvert_exporter": "python",
   "pygments_lexer": "ipython3",
   "version": "3.8.9"
  }
 },
 "nbformat": 4,
 "nbformat_minor": 5
}
